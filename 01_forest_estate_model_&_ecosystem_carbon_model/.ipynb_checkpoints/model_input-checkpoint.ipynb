{
 "cells": [
  {
   "cell_type": "markdown",
   "id": "1f35238c-da38-41f4-82bd-ab81ee2bcba3",
   "metadata": {},
   "source": [
    "# Compile Woodstock-style input files\n",
    "\n",
    "This notebook was created by Jimmy Ke and Greg Paradis. \n",
    "\n",
    "The model is implemented using `ws3`. We use `Woodstock`-style text input files to compile the basic input data for our `ws3` model (i.e., stratification schema, initial inventory, yield curves, treatments, transitions). "
   ]
  },
  {
   "cell_type": "markdown",
   "id": "bdd4ea18-9954-4793-ba48-8b77fda2883a",
   "metadata": {},
   "source": [
    "## Forest Estate Model Input File Generation\n"
   ]
  },
  {
   "cell_type": "markdown",
   "id": "f7b5ace7-46a2-4428-932c-302d1d5b0668",
   "metadata": {},
   "source": [
    "To simplify the knowledge required for programming, we use formatted files to support the forest estate model. This script will generate the following files needed for the forest estate model:\n",
    "- Landscape file\n",
    "- Area file\n",
    "- Growth and yield file\n",
    "- Forest action file\n",
    "- Transition rule file"
   ]
  },
  {
   "cell_type": "code",
   "execution_count": 4,
   "id": "d6472f04-ab2e-4a3c-9a5a-e8f0542d5eeb",
   "metadata": {
    "tags": []
   },
   "outputs": [],
   "source": [
    "!git submodule init\n",
    "!git submodule update"
   ]
  },
  {
   "cell_type": "markdown",
   "id": "31b68f42-f5d1-4c2a-810e-06db434c21f9",
   "metadata": {},
   "source": [
    "The following is a hack to force this notebook to use the local `ws3` submodule code."
   ]
  },
  {
   "cell_type": "code",
   "execution_count": 5,
   "id": "25f72586-31a7-4f09-aa57-188d3290d6e6",
   "metadata": {
    "tags": []
   },
   "outputs": [
    {
     "data": {
      "text/plain": [
       "['/media/data/project/gparadis/model_prototype_0',\n",
       " '/usr/lib/python310.zip',\n",
       " '/usr/lib/python3.10',\n",
       " '/usr/lib/python3.10/lib-dynload',\n",
       " '',\n",
       " '/opt/jupyterhub/lib/python3.10/site-packages',\n",
       " '/usr/local/lib/python3.10/dist-packages',\n",
       " '/usr/lib/python3/dist-packages',\n",
       " '/media/data/project/gparadis/model_prototype_0/ws3']"
      ]
     },
     "execution_count": 5,
     "metadata": {},
     "output_type": "execute_result"
    }
   ],
   "source": [
    "import os\n",
    "import sys\n",
    "module_path = os.path.abspath(os.path.join('ws3'))\n",
    "if module_path not in sys.path:\n",
    "    sys.path.append(module_path)\n",
    "sys.path"
   ]
  },
  {
   "cell_type": "markdown",
   "id": "328ca48c-19e6-4e91-94c8-8565fbac96f9",
   "metadata": {},
   "source": [
    "## Preamble\n",
    "\n",
    "Import modules, define classes and functions and constants, etc."
   ]
  },
  {
   "cell_type": "code",
   "execution_count": 1,
   "id": "755ec74d-c3cb-40be-8ad8-78fb5d3c2b74",
   "metadata": {},
   "outputs": [
    {
     "name": "stderr",
     "output_type": "stream",
     "text": [
      "/opt/jupyterhub/lib/python3.8/site-packages/geopandas/_compat.py:111: UserWarning: The Shapely GEOS version (3.10.2-CAPI-1.16.0) is incompatible with the GEOS version PyGEOS was compiled with (3.10.3-CAPI-1.16.1). Conversions between both will be slow.\n",
      "  warnings.warn(\n"
     ]
    }
   ],
   "source": [
    "import pandas as pd\n",
    "import geopandas as gpd\n",
    "import ws3.forest, ws3.core"
   ]
  },
  {
   "cell_type": "code",
   "execution_count": 4,
   "id": "194da23c-e4d4-47f2-935f-fa385c163cd9",
   "metadata": {},
   "outputs": [],
   "source": [
    "data_path = 'data/input'\n",
    "fert_codes = ['00',\n",
    "              '11',\n",
    "              '12',\n",
    "              '13',\n",
    "              '14',\n",
    "              '15',\n",
    "              '16',\n",
    "              '17',\n",
    "              '21',\n",
    "              '22',\n",
    "              '23',\n",
    "              '24',\n",
    "              '25',\n",
    "              '26',\n",
    "              '31',\n",
    "              '32',\n",
    "              '33',\n",
    "              '34',\n",
    "              '35']\n",
    "period_length = 10\n",
    "max_age = 350\n",
    "base_year = 2020\n",
    "horizon = 10\n",
    "curve_table = pd.read_csv('%s/curve_table.csv' % data_path)\n",
    "model_name = 'tsa24_clipped'"
   ]
  },
  {
   "cell_type": "markdown",
   "id": "0f112d0a-3f5d-4e8f-81ba-8c74a00e3246",
   "metadata": {},
   "source": [
    "# Compile LANDSCAPE section"
   ]
  },
  {
   "cell_type": "markdown",
   "id": "ef0f1e1c-27c4-4a4f-8093-ab865a7d1c70",
   "metadata": {},
   "source": [
    "Hand coded to `data_path/model_name.lan`."
   ]
  },
  {
   "cell_type": "markdown",
   "id": "dfc80e0a-e080-4cc2-a40b-6112f52bb3a3",
   "metadata": {},
   "source": [
    "# Compile AREAS section"
   ]
  },
  {
   "cell_type": "code",
   "execution_count": 46,
   "id": "b2b018b0-9c96-40e0-a8c1-ae3fe2fb4b4c",
   "metadata": {
    "tags": []
   },
   "outputs": [],
   "source": [
    "stands = gpd.read_file('%s/shp/tsa24_clipped.shp/stands.shp' % data_path)"
   ]
  },
  {
   "cell_type": "markdown",
   "id": "0027260b-1fd2-498d-a977-4b92e6b84f60",
   "metadata": {},
   "source": [
    "Need to rebuild the THLB attribute in the stand inventory table. Current implementation is inconsistent with yield VDYP/TIPSY yield curve (and AU definition) modelling assumptions. \n",
    "\n",
    "In a nutshell, AUs either have only a VDYP yield curve or both VDYP and TISPY yield curves (if considered potentially operable). We need to set the THLB attribute to 0 for stands in AUs with have only a VDYP curve (i.e., where `au_table.unmanaged_curve_id == au_table.managed_curve_id`), and 1 otherwise. \n",
    "\n",
    "Otherwise, we would get weird cases where we can harvest a stand but there is not TIPSY curve defined for second-growth stand conditions."
   ]
  },
  {
   "cell_type": "code",
   "execution_count": 47,
   "id": "404c5cc1-cd55-424d-aa80-6f1325509b9b",
   "metadata": {
    "tags": []
   },
   "outputs": [],
   "source": [
    "au_table = pd.read_csv('%s/au_table.csv' % data_path).set_index('au_id')\n",
    "curve_table = pd.read_csv('%s/curve_table.csv' % data_path)\n",
    "curve_points_table = pd.read_csv('%s/curve_points_table.csv' % data_path).set_index('curve_id')"
   ]
  },
  {
   "cell_type": "code",
   "execution_count": 48,
   "id": "1094108d-4b3b-496a-b39a-b388ae3a9ee1",
   "metadata": {
    "tags": []
   },
   "outputs": [],
   "source": [
    "au_table = au_table.query('tsa == 24')"
   ]
  },
  {
   "cell_type": "code",
   "execution_count": 49,
   "id": "182a2a8c-898a-4f2f-a35d-14188bfe5c43",
   "metadata": {
    "tags": []
   },
   "outputs": [],
   "source": [
    "au_table['thlb'] = au_table.apply(lambda row: 0 if row.unmanaged_curve_id == row.managed_curve_id else 1, axis=1)"
   ]
  },
  {
   "cell_type": "code",
   "execution_count": 50,
   "id": "546be6b6-24fe-4086-aabc-19c6c821ff25",
   "metadata": {
    "tags": []
   },
   "outputs": [],
   "source": [
    "stands.theme1 = stands.apply(lambda row: au_table.loc[row.theme2].thlb, axis=1)"
   ]
  },
  {
   "cell_type": "markdown",
   "id": "1ba3bf38-0bc7-4ebd-8e67-669934a7b30f",
   "metadata": {},
   "source": [
    "Copy `curve1` to `theme4` so we can track yield curve transitions independently from AU."
   ]
  },
  {
   "cell_type": "code",
   "execution_count": 51,
   "id": "22597fc1-2aff-4888-b4e6-19fb064eb9c0",
   "metadata": {
    "tags": []
   },
   "outputs": [],
   "source": [
    "stands['theme4'] = stands.curve1"
   ]
  },
  {
   "cell_type": "markdown",
   "id": "bf83cbd8-2dfd-4102-99fb-1c927382fa01",
   "metadata": {},
   "source": [
    "Set up themes."
   ]
  },
  {
   "cell_type": "code",
   "execution_count": 52,
   "id": "5b5d6b04-7d70-484e-a4b7-1e98b60654c3",
   "metadata": {
    "tags": []
   },
   "outputs": [],
   "source": [
    "theme_cols=['theme0', # TSA \n",
    "            'theme1', # THLB\n",
    "            'theme2', # AU\n",
    "            'theme3', # leading species code\n",
    "            'theme4'] # yield curve ID"
   ]
  },
  {
   "cell_type": "code",
   "execution_count": 53,
   "id": "16e3cd02-972c-448b-a56d-aea5a30f38a9",
   "metadata": {},
   "outputs": [],
   "source": [
    "gstands = stands.groupby(theme_cols+['age'])"
   ]
  },
  {
   "cell_type": "code",
   "execution_count": 93,
   "id": "aa126f9e-dcf3-4de4-afd3-ff2a80777eab",
   "metadata": {
    "tags": []
   },
   "outputs": [
    {
     "name": "stdout",
     "output_type": "stream",
     "text": [
      "('tsa24_clipped', '1', '2401002', '204', '2421002')\n",
      "('tsa24_clipped', '1', '2401002', '204', '2421002')\n",
      "('tsa24_clipped', '1', '2401002', '204', '2421002')\n",
      "('tsa24_clipped', '1', '2401002', '204', '2421002')\n",
      "('tsa24_clipped', '1', '2401002', '204', '2421002')\n",
      "('tsa24_clipped', '1', '2401002', '204', '2421002')\n",
      "('tsa24_clipped', '1', '2401002', '204', '2421002')\n",
      "('tsa24_clipped', '1', '2401002', '204', '2421002')\n",
      "('tsa24_clipped', '1', '2401002', '204', '2421002')\n",
      "('tsa24_clipped', '1', '2401002', '204', '2421002')\n",
      "('tsa24_clipped', '1', '2401002', '204', '2421002')\n",
      "('tsa24_clipped', '1', '2401002', '204', '2421002')\n",
      "('tsa24_clipped', '1', '2401002', '204', '2421002')\n",
      "('tsa24_clipped', '1', '2401002', '204', '2421002')\n",
      "('tsa24_clipped', '1', '2402000', '100', '2422000')\n",
      "('tsa24_clipped', '1', '2402002', '204', '2422002')\n",
      "('tsa24_clipped', '1', '2402002', '204', '2422002')\n",
      "('tsa24_clipped', '1', '2402002', '204', '2422002')\n",
      "('tsa24_clipped', '1', '2402002', '204', '2422002')\n",
      "('tsa24_clipped', '1', '2403000', '100', '2423000')\n",
      "('tsa24_clipped', '1', '2403002', '204', '2423002')\n",
      "data/input/tsa24_clipped.are\n"
     ]
    }
   ],
   "source": [
    "lines = []\n",
    "for name, group in gstands:\n",
    "    dtk, age, area = tuple(map(lambda x: str(x), name[:-1])), int(name[-1]), group['area'].sum()\n",
    "    if dtk[1] == '0': continue\n",
    "    if dtk[4][2] == '0':\n",
    "        t4 = list(dtk[4])\n",
    "        t4[2] = '2'\n",
    "        t4 = ''.join(t4)\n",
    "        dtk = (dtk[0], dtk[1], dtk[2], dtk[3], t4)\n",
    "        print(dtk)\n",
    "    #print(name, group)\n",
    "    #print(dtk, age, area)\n",
    "    #print('*A', ' '.join(v for v in dtk), age, area)\n",
    "    lines.append('*A %s %i %0.1f\\n' % (' '.join(v for v in dtk), age, area))\n",
    "    \n",
    "filename = '%s/%s.are' % (data_path, model_name)\n",
    "print(filename)\n",
    "with open(filename, 'w') as snk:\n",
    "    snk.writelines(lines)"
   ]
  },
  {
   "cell_type": "markdown",
   "id": "1318e456-94b2-47e3-a341-001f2f4a2c7c",
   "metadata": {},
   "source": [
    "# Compile YIELDS section"
   ]
  },
  {
   "cell_type": "code",
   "execution_count": 94,
   "id": "5d19b383-d43e-4f11-bea2-01fd9ae9db3f",
   "metadata": {
    "tags": []
   },
   "outputs": [
    {
     "name": "stdout",
     "output_type": "stream",
     "text": [
      "data/input/tsa24_clipped.yld\n"
     ]
    }
   ],
   "source": [
    "lines = []\n",
    "# for fert\n",
    "for fert in fert_codes:\n",
    "    au_table = pd.read_csv('%s/au_table_%s.csv' % (data_path, fert)).set_index('au_id')\n",
    "    au_table = au_table.query('tsa == 24')\n",
    "    au_table['thlb'] = au_table.apply(lambda row: 0 if row.unmanaged_curve_id == row.managed_curve_id else 1, axis=1)\n",
    "    curve_points_table = pd.read_csv('%s/curve_points_table_updated_%s.csv' % (data_path, fert)).set_index('curve_id')\n",
    "    for au_id, au_row in au_table.iterrows():\n",
    "        if au_row.thlb == 0:\n",
    "            fert_curve_id = au_row.fert_curve_id #apply curve id \n",
    "            managed_curve_id = au_row.managed_curve_id\n",
    "            curve_id = au_row.managed_curve_id \n",
    "            mask = ('?', '?', str(au_id), '?', str(managed_curve_id))\n",
    "            continue # (hack) omit unmanaged, i.e., NTHLB, AUs from the model\n",
    "        else:\n",
    "            fert_curve_id = au_row.fert_curve_id #apply curve id \n",
    "            managed_curve_id = au_row.managed_curve_id\n",
    "            curve_id = au_row.fert_curve_id\n",
    "            mask = ('?', '?', str(au_id), '?', str(fert_curve_id))\n",
    "        lines.append('*Y %s\\n' % ' '.join(v for v in mask))\n",
    "        for i, col in enumerate(curve_points_table.columns):\n",
    "            if i == 0:\n",
    "                continue \n",
    "            yname = col\n",
    "            points = [(r.age, r[col]) for _, r in curve_points_table.loc[curve_id].iterrows() if not r.age % period_length and r.age <= max_age]\n",
    "            is_volume = True if yname == 'volume' else False\n",
    "            c = ws3.core.Curve(yname, points=points, type='a', is_volume=is_volume, xmax=max_age, period_length=period_length)\n",
    "            if not au_row.thlb: continue\n",
    "            lines.append('%s 1 %s\\n' % (yname, ' '.join(str(int(c[x])) for x in range(0, 300, 1))))\n",
    "filename = '%s/%s.yld' % (data_path, model_name)\n",
    "print(filename)\n",
    "with open(filename, 'w') as snk:\n",
    "    snk.writelines(lines)"
   ]
  },
  {
   "cell_type": "markdown",
   "id": "986ed8b2-c318-4b47-be3e-c402c82bdd8d",
   "metadata": {},
   "source": [
    "# Compile ACTIONS section"
   ]
  },
  {
   "cell_type": "code",
   "execution_count": 122,
   "id": "35f9e599-0acf-44ce-89ae-90600b3fa990",
   "metadata": {},
   "outputs": [
    {
     "name": "stdout",
     "output_type": "stream",
     "text": [
      "data/input/tsa24_clipped.act\n"
     ]
    }
   ],
   "source": [
    "lines = []\n",
    "\n",
    "lines.append('*ACTION cc Y clearcut harvest\\n')\n",
    "lines.append('*OPERABLE cc\\n')\n",
    "lines.append('? 1 ? ? ? _AGE >= 40 AND _AGE <= 999\\n')\n",
    "\n",
    "for i in range(1,8):\n",
    "    lines.append('*ACTION f1%i N fertilize once at age %i0\\n' % (i,i))\n",
    "    lines.append('*OPERABLE f1%i\\n' % i)\n",
    "    lines.append('? 1 ? ? unfertilized _AGE >= %i0 AND _AGE <= %i0\\n' % (i,i))\n",
    "for i in range(1,7):\n",
    "    lines.append('*ACTION f2%i N fertilize twice at age %i0 %i0\\n' % (i,i,i+1))\n",
    "    lines.append('*OPERABLE f2%i\\n' % i)\n",
    "    lines.append('? 1 ? ? unfertilized _AGE >= %i0 AND _AGE <= %i0\\n' % (i,i))\n",
    "for i in range(1,6):\n",
    "    lines.append('*ACTION f3%i N fertilize thrice at age %i0 %i0 %i0\\n' % (i,i,i+1,i+2))\n",
    "    lines.append('*OPERABLE f3%i\\n' % i)\n",
    "    lines.append('? 1 ? ? unfertilized _AGE >= %i0 AND _AGE <= %i0\\n' % (i,i))\n",
    "    \n",
    "filename = '%s/%s.act' % (data_path, model_name)\n",
    "print(filename)\n",
    "with open(filename, 'w') as snk:\n",
    "    snk.writelines(lines)"
   ]
  },
  {
   "cell_type": "markdown",
   "id": "d87008a1-331d-43ca-9ef5-02cc8a57e736",
   "metadata": {},
   "source": [
    "# Compile TRANSITIONS section"
   ]
  },
  {
   "cell_type": "code",
   "execution_count": 96,
   "id": "512f6292-6c85-419b-9c69-8ae7701fade8",
   "metadata": {
    "tags": []
   },
   "outputs": [
    {
     "name": "stdout",
     "output_type": "stream",
     "text": [
      "data/input/tsa24_clipped.trn\n"
     ]
    }
   ],
   "source": [
    "lines = []\n",
    "\n",
    "acode = 'cc'\n",
    "lines.append('*CASE %s\\n' % acode)\n",
    "for au_id, au_row in au_table.iterrows():\n",
    "    if not au_row.thlb: continue\n",
    "    curve_id = au_row.managed_curve_id\n",
    "    target_curve_id = au_row.managed_curve_id\n",
    "    smask = ' '.join(('?', '?', str(au_id), '?', '?'))\n",
    "    tmask = ' '.join(('?', '?', '?', '?', str(target_curve_id)))\n",
    "    lines.append('*SOURCE %s\\n' % smask)\n",
    "    lines.append('*TARGET %s 100\\n' % tmask)\n",
    "    \n",
    "fert_once = list(range(11, 18))\n",
    "fert_twice = list(range(21,27))\n",
    "fert_thrice = list(range(31,36))\n",
    "fert_option_all = fert_once + fert_twice + fert_thrice\n",
    "for i in fert_option_all:\n",
    "    acode = 'f%i' % i\n",
    "    lines.append('*CASE %s\\n' % acode)\n",
    "    for au_id, au_row in au_table.iterrows():\n",
    "        if not au_row.thlb: continue\n",
    "        curve_id = au_row.managed_curve_id\n",
    "        target_curve_id = curve_id + i * 10\n",
    "        smask = ' '.join(('?', '?', str(au_id), '?', '?'))\n",
    "        tmask = ' '.join(('?', '?', '?', '?', str(target_curve_id)))\n",
    "        lines.append('*SOURCE %s\\n' % smask)\n",
    "        lines.append('*TARGET %s 100\\n' % tmask)\n",
    "    \n",
    "filename = '%s/%s.trn' % (data_path, model_name)\n",
    "print(filename)\n",
    "with open(filename, 'w') as snk:\n",
    "    snk.writelines(lines)"
   ]
  },
  {
   "cell_type": "code",
   "execution_count": null,
   "id": "a60ff867-d102-423b-87c5-84d5d724092a",
   "metadata": {},
   "outputs": [],
   "source": []
  }
 ],
 "metadata": {
  "kernelspec": {
   "display_name": "Python 3 (ipykernel)",
   "language": "python",
   "name": "python3"
  },
  "language_info": {
   "codemirror_mode": {
    "name": "ipython",
    "version": 3
   },
   "file_extension": ".py",
   "mimetype": "text/x-python",
   "name": "python",
   "nbconvert_exporter": "python",
   "pygments_lexer": "ipython3",
   "version": "3.10.12"
  }
 },
 "nbformat": 4,
 "nbformat_minor": 5
}
