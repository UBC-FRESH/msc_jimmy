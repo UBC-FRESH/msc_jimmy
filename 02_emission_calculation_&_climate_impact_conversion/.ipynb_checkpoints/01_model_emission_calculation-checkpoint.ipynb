{
 "cells": [
  {
   "cell_type": "code",
   "execution_count": null,
   "id": "7dea9cdb",
   "metadata": {},
   "outputs": [],
   "source": [
    "# pip install pandas"
   ]
  },
  {
   "cell_type": "code",
   "execution_count": null,
   "id": "d7fd9790",
   "metadata": {},
   "outputs": [],
   "source": [
    "import pandas as pd\n",
    "import math\n",
    "import numpy as np\n",
    "import os\n",
    "import matplotlib.pyplot as plt\n",
    "import json"
   ]
  },
  {
   "cell_type": "code",
   "execution_count": null,
   "id": "cb7a134c-59ee-415d-86d4-cff86494d175",
   "metadata": {},
   "outputs": [],
   "source": [
    "scenario_name = scenario_name\n",
    "inventory_retention = inventory_retention\n",
    "clt_percentage = clt_percentage\n"
   ]
  },
  {
   "cell_type": "code",
   "execution_count": null,
   "id": "642ae2bb-0dff-4fef-837c-78b0f688d9cb",
   "metadata": {
    "tags": []
   },
   "outputs": [],
   "source": [
    "# scenario_name = 'fert_thrice'\n",
    "\n",
    "# # Read the configuration file\n",
    "# with open(\"scenario.json\") as f:\n",
    "#     config = json.load(f)\n",
    "\n",
    "# # Now you can access your variables from the config dict\n",
    "# scenario_name = config[\"scenario_name\"]\n",
    "# inventory_retention = config[\"inventory_retention\"]\n",
    "# clt_percentage = config[\"clt_percentage\"]\n",
    "\n",
    "\n",
    "path = f\"model_result/emission_calculation/emission_calculation_{scenario_name}_{inventory_retention}.csv\"\n",
    "document_name = os.path.basename(path)\n",
    "document_name_without_extension = os.path.splitext(document_name)[0]\n",
    "\n",
    "document_name_without_extension"
   ]
  },
  {
   "cell_type": "markdown",
   "id": "ced0c875-56e7-41e6-9cd9-447f810c0a36",
   "metadata": {},
   "source": [
    "## lumber allocaion rate"
   ]
  },
  {
   "cell_type": "code",
   "execution_count": null,
   "id": "703c6f06-459d-44a5-a58e-757ed2158d4f",
   "metadata": {},
   "outputs": [],
   "source": [
    "# lumber allocation rate\n",
    "# clt_percentage = 0.2\n",
    "lumber_percentage = 1 - clt_percentage\n"
   ]
  },
  {
   "cell_type": "markdown",
   "id": "71f98c67-c9e2-4eb3-a0d5-b0edbe640ec9",
   "metadata": {},
   "source": [
    "## whether apply clt decay curve"
   ]
  },
  {
   "cell_type": "code",
   "execution_count": null,
   "id": "b20b5fb8-39cb-4a22-a842-33d5a3401241",
   "metadata": {},
   "outputs": [],
   "source": [
    "clt_decay_apply = 1"
   ]
  },
  {
   "cell_type": "markdown",
   "id": "71277ea0",
   "metadata": {
    "tags": []
   },
   "source": [
    "# Conversion rate for each products\n"
   ]
  },
  {
   "cell_type": "code",
   "execution_count": null,
   "id": "bdafab48",
   "metadata": {},
   "outputs": [],
   "source": [
    "# wood density (Kennedy, 1965)\n",
    "wood_density = 460\n",
    "\n",
    "# carbon content\n",
    "carbon_content = 0.5\n",
    "\n",
    "#co2 weight conversion\n",
    "co2_weight_conversion = 44/12\n",
    "\n",
    "\n",
    "# sawdust to pellet 1.56:1\n",
    "pellet_conversion_rate = 1.56\n",
    "\n",
    "# (Röder et al., 2015)\n",
    "pellet_heat_value = 16.5 # unit MJ/kg\n",
    "mj_to_kwh = 0.277777778 # heat value to kwh\n",
    "CHP_conversion_efficiency = 0.8\n",
    "\n",
    "# pulp to pulp 1.1:1\n",
    "paper_conversion_rate = 1.1\n",
    "\n",
    "\n",
    "# lumber to CLT 1.24:1 , reference: (Athena, 2022)\n",
    "\n",
    "clt_conversion_rate = 1.24\n",
    "\n",
    "#lumber conversion rate 1.36 : 1, reference: (Ecoinv 3.9)\n",
    "lum_conversion_rate = (0.4931716875088685 + 0.5142672151184445 + 0.35502235797794257) / 1\n"
   ]
  },
  {
   "cell_type": "markdown",
   "id": "2001b46f",
   "metadata": {
    "tags": []
   },
   "source": [
    "# Emision factor in each life cycle stage"
   ]
  },
  {
   "cell_type": "code",
   "execution_count": null,
   "id": "404cc319",
   "metadata": {},
   "outputs": [],
   "source": [
    "# unit for the harvesting emission is kgGHG/ha\n",
    "harvest_efficiency = 3.1 #h/ha (Pa et al., 2012)\n",
    "\n",
    "co2_harvester_factor = 56.47659489 * harvest_efficiency\n",
    "ch4_harvester_factor = 0.195053775 * harvest_efficiency\n",
    "n2o_harvester_factor = 0.002390423 * harvest_efficiency\n",
    "\n",
    "skidder_efficiency= 3.1 #h/ha (Pa et al., 2012)\n",
    "\n",
    "co2_skidder_factor = 54.13966064 * skidder_efficiency\n",
    "ch4_skidder_factor = 0.15751905 * skidder_efficiency\n",
    "n2o_skidder_factor = 0.001985269 * skidder_efficiency\n",
    "\n",
    "\n",
    "# following is the emission factor for fetilization emission\n",
    "co2_fert_factor = 17.13779467\n",
    "ch4_fert_factor = 0.055734646\n",
    "n2o_fert_once_factor = 20.00206748\n",
    "n2o_fert_twice_factor = 40.00206748\n",
    "n2o_fert_thrice_factor = 60.00206748\n",
    "\n",
    "# unit for the harvested wood products emission are kgGHG/kgProduct\n",
    "# manufacturing emission\n",
    "co2_pellet_manu_factor = 0.189381356\n",
    "ch4_pellet_manu_factor = 0.000589218\n",
    "n2o_pellet_manu_factor = 9.45999E-06\n",
    "\n",
    "#CLT manu data \n",
    "#unit kgGHG/m3\n",
    "co2_clt_manu_factor = 173.5675192\n",
    "ch4_clt_manu_factor = 0.661187758\n",
    "n2o_clt_manu_factor = 0.012283183\n",
    "\n",
    "#constructurallumber manu data \n",
    "#unit kgGHG/m3\n",
    "co2_lum_manu_factor = 111.6665607\n",
    "ch4_lum_manu_factor = 0.661187758\n",
    "n2o_lum_manu_factor = 0.00757105\n",
    "\n",
    "\n",
    "#paper manu data\n",
    "co2_paper_manu_factor = 2.68272497\n",
    "ch4_paper_manu_factor = 0.008349122\n",
    "n2o_paper_manu_factor = 7.74546E-05\n",
    "\n",
    "#transportation emission\n",
    "co2_pellet_trans_factor = 0.224768162\n",
    "ch4_pellet_trans_factor = 2.57603E-05\n",
    "n2o_pellet_trans_factor = 5.0852E-06\n",
    "\n",
    "\n",
    "# concrete production emission kgGHG/m3\n",
    "co2_concrete_manu_factor = 297.991587\n",
    "ch4_concrete_manu_factor = 0.555939939\n",
    "n2o_concrete_manu_factor = 0.003367478\n",
    "\n",
    "#concrete density\n",
    "concrete_density = 2400 #kg/m3\n",
    "\n",
    "# concrete landfill emission kgGHG/kg\n",
    "co2_concrete_landfill_factor = 0.005167437 * concrete_density\n",
    "ch4_concrete_landfill_factor = 3.05319E-05 * concrete_density\n",
    "n2o_concrete_landfill_factor = 1.65626E-07 * concrete_density\n",
    "\n",
    "\n",
    "\n",
    "# electricity production emission kgGHG/kwh\n",
    "co2_electricity_manu_factor = 0.975309365\n",
    "ch4_electricity_manu_factor = 0.002796801\n",
    "n2o_electricity_manu_factor = 1.06334E-05\n",
    "\n"
   ]
  },
  {
   "cell_type": "markdown",
   "id": "2729cc7e-7060-4032-aa35-91579309df5e",
   "metadata": {
    "tags": []
   },
   "source": [
    "# Decay and landfill assumption"
   ]
  },
  {
   "cell_type": "code",
   "execution_count": null,
   "id": "62c4b32e-2bce-4cd6-ba6c-2cd841ac8877",
   "metadata": {},
   "outputs": [],
   "source": [
    "half_life_constructural_lumber = 35\n",
    "building_life_clt = 100\n",
    "half_life_paper = 2\n",
    "\n",
    "# (IPCC, 2006) Volume 5 Chapter 3 - SOLID WASTE DISPOSAL \n",
    "half_life_landfill_constructural_lumber = 35\n",
    "half_life_landfill_newspaper = 17 \n",
    "#Methane Correction Factor(IPCC, 2006)\n",
    "landfill_mcf = 0.4\n",
    "\n",
    "#Fraction of CH4 in generated Landfill Gas (F) = 0.5 (IPCC, 2006)\n",
    "landfill_f = 0.5\n",
    "\n",
    "#Methane Recovery (Anshassi et al., 2021)\n",
    "landfill_r = 0.75\n",
    "\n",
    "#Oxidation  Factor \n",
    "landfill_ox = 0\n",
    "\n"
   ]
  },
  {
   "cell_type": "code",
   "execution_count": null,
   "id": "578663bf",
   "metadata": {},
   "outputs": [],
   "source": [
    "\n",
    "# Read the CSV file and convert it into a DataFrame\n",
    "df_emission_calculation = pd.read_csv(path)\n",
    "df_emission_calculation.drop('Unnamed: 0', axis=1, inplace=True)\n",
    "df_emission_calculation"
   ]
  },
  {
   "cell_type": "markdown",
   "id": "0ee3cc8d",
   "metadata": {
    "tags": []
   },
   "source": [
    "# Harvesting emission calculation"
   ]
  },
  {
   "cell_type": "code",
   "execution_count": null,
   "id": "46230788",
   "metadata": {
    "scrolled": true
   },
   "outputs": [],
   "source": [
    "\n",
    "df_emission_harvesting = {'period':[],'co2_harvester':[],'ch4_harvester':[],'n2o_harvester':[],'co2_skidder':[],'ch4_skidder':[],'n2o_skidder':[]}\n",
    "# Iterate through the 'period' column and retrieve values from the 'oha' column\n",
    "for period_value in df_emission_calculation['period']:\n",
    "    oha_value = df_emission_calculation.loc[df_emission_calculation['period'] == period_value, 'oha'].values[0]\n",
    "    co2_harvester = co2_harvester_factor * oha_value\n",
    "    ch4_harvester = ch4_harvester_factor * oha_value\n",
    "    n2o_harvester = n2o_harvester_factor * oha_value\n",
    "    \n",
    "    co2_skidder = co2_skidder_factor * oha_value\n",
    "    ch4_skidder = ch4_skidder_factor * oha_value\n",
    "    n2o_skidder = n2o_skidder_factor * oha_value\n",
    "    \n",
    "    df_emission_harvesting['period'].append(period_value)\n",
    "    df_emission_harvesting['co2_harvester'].append(co2_harvester)\n",
    "    df_emission_harvesting['ch4_harvester'].append(ch4_harvester)\n",
    "    df_emission_harvesting['n2o_harvester'].append(n2o_harvester)\n",
    "    df_emission_harvesting['co2_skidder'].append(co2_skidder)\n",
    "    df_emission_harvesting['ch4_skidder'].append(ch4_skidder)\n",
    "    df_emission_harvesting['n2o_skidder'].append(n2o_skidder)\n",
    "\n",
    "# Create a DataFrame from the dictionary\n",
    "df_emission_harvesting = pd.DataFrame(df_emission_harvesting)\n",
    "\n",
    "df_emission_harvesting"
   ]
  },
  {
   "cell_type": "markdown",
   "id": "c7bc7307",
   "metadata": {
    "tags": []
   },
   "source": [
    "# Fertilization emission calculation"
   ]
  },
  {
   "cell_type": "code",
   "execution_count": null,
   "id": "93fc56bf",
   "metadata": {
    "scrolled": true
   },
   "outputs": [],
   "source": [
    "df_emission_fertilization = {'period':[],'co2_fert':[],'ch4_fert':[],'n2o_fert':[]}\n",
    "# Iterate through the 'period' column and retrieve values from the 'oha' column\n",
    "\n",
    "for index, row in df_emission_calculation.iterrows():\n",
    "    period_value = row['period']\n",
    "    fert_area_value = row['fert_area']\n",
    "    if scenario == 'base':  \n",
    "        co2_fert = fert_area_value * co2_fert_factor\n",
    "        ch4_fert = fert_area_value * ch4_fert_factor\n",
    "        n2o_fert = fert_area_value * n2o_fert_once_factor\n",
    "    elif scenario == 'fert_once':  \n",
    "        co2_fert = fert_area_value * co2_fert_factor\n",
    "        ch4_fert = fert_area_value * ch4_fert_factor\n",
    "        n2o_fert = fert_area_value * n2o_fert_once_factor\n",
    "    elif scenario == 'fert_twice':  \n",
    "        co2_fert = fert_area_value * co2_fert_factor\n",
    "        ch4_fert = fert_area_value * ch4_fert_factor\n",
    "        n2o_fert = fert_area_value * n2o_fert_twice_factor\n",
    "    else:\n",
    "        co2_fert = fert_area_value * co2_fert_factor\n",
    "        ch4_fert = fert_area_value * ch4_fert_factor\n",
    "        n2o_fert = fert_area_value * n2o_fert_thrice_factor\n",
    "    \n",
    "    df_emission_fertilization['period'].append(period_value)\n",
    "    df_emission_fertilization['co2_fert'].append(co2_fert)\n",
    "    df_emission_fertilization['ch4_fert'].append(ch4_fert)\n",
    "    df_emission_fertilization['n2o_fert'].append(n2o_fert)\n",
    "\n",
    "    \n",
    "    \n",
    "df_emission_fertilization = pd.DataFrame(df_emission_fertilization)\n",
    "df_emission_fertilization"
   ]
  },
  {
   "cell_type": "markdown",
   "id": "b3b31517",
   "metadata": {
    "tags": []
   },
   "source": [
    "# HWP manufacturing emission calculation"
   ]
  },
  {
   "cell_type": "code",
   "execution_count": null,
   "id": "03e31c4e",
   "metadata": {
    "scrolled": true
   },
   "outputs": [],
   "source": [
    "#pellet manufacturing emission\n",
    "df_emission_pellet_manu = {'period':[],'co2_pellet_manu':[],'ch4_pellet_manu':[],'n2o_pellet_manu':[]}\n",
    "\n",
    "for index, row in df_emission_calculation.iterrows():\n",
    "    period_value = row['period']\n",
    "    pellet_volume = (row['psawdust'] + row['pshaving'] ) / pellet_conversion_rate\n",
    "    \n",
    "    co2_pellet_manu = pellet_volume * co2_pellet_manu_factor\n",
    "    ch4_pellet_manu = pellet_volume * ch4_pellet_manu_factor\n",
    "    n2o_pellet_manu = pellet_volume * n2o_pellet_manu_factor\n",
    "    \n",
    "    df_emission_pellet_manu['period'].append(period_value)\n",
    "    df_emission_pellet_manu['co2_pellet_manu'].append(co2_pellet_manu)\n",
    "    df_emission_pellet_manu['ch4_pellet_manu'].append(ch4_pellet_manu)\n",
    "    df_emission_pellet_manu['n2o_pellet_manu'].append(n2o_pellet_manu)\n",
    "\n",
    "df_emission_pellet_manu = pd.DataFrame(df_emission_pellet_manu)\n",
    "df_emission_pellet_manu   \n",
    "    "
   ]
  },
  {
   "cell_type": "code",
   "execution_count": null,
   "id": "96bcd16b",
   "metadata": {},
   "outputs": [],
   "source": [
    "# CLT \n",
    "# Create an empty dictionary for clt manufacturing emissions\n",
    "df_emission_clt_manu = {'period': [], 'co2_clt_manu': [], 'ch4_clt_manu': [], 'n2o_clt_manu': []}\n",
    "\n",
    "# Iterate through the rows of the DataFrame\n",
    "for index, row in df_emission_calculation.iterrows():\n",
    "    period_value = row['period']\n",
    "    clt_volume = row['plumber']  / clt_conversion_rate * clt_percentage \n",
    "    \n",
    "    co2_clt_manu = clt_volume * co2_clt_manu_factor\n",
    "    ch4_clt_manu = clt_volume * ch4_clt_manu_factor\n",
    "    n2o_clt_manu = clt_volume * n2o_clt_manu_factor\n",
    "    \n",
    "    df_emission_clt_manu['period'].append(period_value)\n",
    "    df_emission_clt_manu['co2_clt_manu'].append(co2_clt_manu)\n",
    "    df_emission_clt_manu['ch4_clt_manu'].append(ch4_clt_manu)\n",
    "    df_emission_clt_manu['n2o_clt_manu'].append(n2o_clt_manu)\n",
    "\n",
    "# Create a DataFrame from the dictionary\n",
    "df_emission_clt_manu = pd.DataFrame(df_emission_clt_manu)\n",
    "\n",
    "df_emission_clt_manu\n"
   ]
  },
  {
   "cell_type": "code",
   "execution_count": null,
   "id": "bf20c18e-5c3e-46f1-85d7-1ad1bd4d678c",
   "metadata": {
    "tags": []
   },
   "outputs": [],
   "source": [
    "# LUMBER\n",
    "# Create an empty dictionary for lumber manufacturing emissions\n",
    "df_emission_lum_manu = {'period': [], 'co2_lum_manu': [], 'ch4_lum_manu': [], 'n2o_lum_manu': []}\n",
    "\n",
    "# Iterate through the rows of the DataFrame\n",
    "for index, row in df_emission_calculation.iterrows():\n",
    "    period_value = row['period']\n",
    "    lum_volume = row['plumber'] * lumber_percentage\n",
    "    \n",
    "    co2_lum_manu = lum_volume * co2_lum_manu_factor\n",
    "    ch4_lum_manu = lum_volume * ch4_lum_manu_factor\n",
    "    n2o_lum_manu = lum_volume * n2o_lum_manu_factor\n",
    "    \n",
    "    df_emission_lum_manu['period'].append(period_value)\n",
    "    df_emission_lum_manu['co2_lum_manu'].append(co2_lum_manu)\n",
    "    df_emission_lum_manu['ch4_lum_manu'].append(ch4_lum_manu)\n",
    "    df_emission_lum_manu['n2o_lum_manu'].append(n2o_lum_manu)\n",
    "\n",
    "# Create a DataFrame from the dictionary\n",
    "df_emission_lum_manu = pd.DataFrame(df_emission_lum_manu)\n",
    "\n",
    "df_emission_lum_manu\n"
   ]
  },
  {
   "cell_type": "code",
   "execution_count": null,
   "id": "7825a773",
   "metadata": {},
   "outputs": [],
   "source": [
    "#paper\n",
    "df_emission_paper_manu = {'period': [], 'co2_paper_manu': [], 'ch4_paper_manu': [], 'n2o_paper_manu': []}\n",
    "\n",
    "# Iterate through the rows of the DataFrame\n",
    "for index, row in df_emission_calculation.iterrows():\n",
    "    period_value = row['period']\n",
    "    paper_volume = row['pchips'] / paper_conversion_rate\n",
    "    \n",
    "    co2_paper_manu = paper_volume * co2_paper_manu_factor\n",
    "    ch4_paper_manu = paper_volume * ch4_paper_manu_factor\n",
    "    n2o_paper_manu = paper_volume * n2o_paper_manu_factor\n",
    "    \n",
    "    df_emission_paper_manu['period'].append(period_value)\n",
    "    df_emission_paper_manu['co2_paper_manu'].append(co2_paper_manu)\n",
    "    df_emission_paper_manu['ch4_paper_manu'].append(ch4_paper_manu)\n",
    "    df_emission_paper_manu['n2o_paper_manu'].append(n2o_paper_manu)\n",
    "\n",
    "# Create a DataFrame from the dictionary\n",
    "df_emission_paper_manu = pd.DataFrame(df_emission_paper_manu)\n",
    "\n",
    "df_emission_paper_manu"
   ]
  },
  {
   "cell_type": "markdown",
   "id": "7482ef17",
   "metadata": {
    "tags": []
   },
   "source": [
    "# Transportation emission"
   ]
  },
  {
   "cell_type": "code",
   "execution_count": null,
   "id": "5272ceae",
   "metadata": {},
   "outputs": [],
   "source": [
    "# pellet\n",
    "df_emission_pellet_trans = {'period': [], 'co2_pellet_trans': [], 'ch4_pellet_trans': [], 'n2o_pellet_trans': []}\n",
    "\n",
    "# Iterate through the rows of the DataFrame\n",
    "for index, row in df_emission_calculation.iterrows():\n",
    "    period_value = row['period']\n",
    "    pellet_volume = (row['psawdust'] + row['pshaving']) / pellet_conversion_rate\n",
    "    \n",
    "    co2_pellet_trans = pellet_volume * co2_pellet_trans_factor\n",
    "    ch4_pellet_trans = pellet_volume * ch4_pellet_trans_factor\n",
    "    n2o_pellet_trans = pellet_volume * n2o_pellet_trans_factor\n",
    "    \n",
    "    df_emission_pellet_trans['period'].append(period_value)\n",
    "    df_emission_pellet_trans['co2_pellet_trans'].append(co2_pellet_trans)\n",
    "    df_emission_pellet_trans['ch4_pellet_trans'].append(ch4_pellet_trans)\n",
    "    df_emission_pellet_trans['n2o_pellet_trans'].append(n2o_pellet_trans)\n",
    "\n",
    "# Create a DataFrame from the dictionary\n",
    "df_emission_pellet_trans = pd.DataFrame(df_emission_pellet_trans)\n",
    "\n",
    "df_emission_pellet_trans"
   ]
  },
  {
   "cell_type": "markdown",
   "id": "2f29a770",
   "metadata": {
    "tags": []
   },
   "source": [
    "# Decay emission"
   ]
  },
  {
   "cell_type": "markdown",
   "id": "1e895c5e-7739-4df7-9a0e-928aac863b43",
   "metadata": {
    "tags": []
   },
   "source": [
    "## CLT and lumber decay emission"
   ]
  },
  {
   "cell_type": "code",
   "execution_count": null,
   "id": "199a3661-bade-4af5-a197-7662be7991b2",
   "metadata": {},
   "outputs": [],
   "source": [
    "def first_order_decay_emission_total(initial_carbon_content, decay_constant, time):\n",
    "    \"\"\"\n",
    "    Calculates the emission using the first-order decay model.\n",
    "    \"\"\"\n",
    "    emission = initial_carbon_content * (1 - np.exp(-decay_constant * time))\n",
    "    return emission\n",
    "\n",
    "def first_order_decay_emission_periodic(initial_carbon_content, decay_constant, time_present, time_previous):\n",
    "    \"\"\"\n",
    "    Calculates the emission using the first-order decay model.\n",
    "    \"\"\"\n",
    "    emission = initial_carbon_content * (1 - np.exp(-decay_constant * time_present)) - initial_carbon_content * (1 - np.exp(-decay_constant * time_previous))\n",
    "    return emission\n",
    "\n",
    "def first_order_decay_left_carbon_content(initial_carbon_content, decay_constant, time):\n",
    "    \"\"\"\n",
    "    Calculates the emission using the first-order decay model.\n",
    "    \"\"\"\n",
    "    emission = initial_carbon_content * (np.exp(-decay_constant * time))\n",
    "    return emission\n",
    "\n",
    "def decay_constant(half_life):\n",
    "    k = math.log(2) / half_life\n",
    "    return k\n",
    "m = math.log(2)/0.03\n",
    "m"
   ]
  },
  {
   "cell_type": "markdown",
   "id": "a471bdc1-08b1-4d98-9ede-9e0f7f4ef482",
   "metadata": {},
   "source": [
    "## Life time decay"
   ]
  },
  {
   "cell_type": "markdown",
   "id": "c46454a8-e6d4-4cbc-9780-0585d83f55f1",
   "metadata": {},
   "source": [
    "### CLT life time decay"
   ]
  },
  {
   "cell_type": "code",
   "execution_count": null,
   "id": "05016438",
   "metadata": {
    "tags": []
   },
   "outputs": [],
   "source": [
    "df_clt_emission = pd.read_excel('data/CLT_emission.xlsx', engine='openpyxl')\n",
    "\n",
    "# Group by 'timestep' column with every 10 steps and 'Emission' column, then calculate the sum of the 'BL100' column\n",
    "result = df_clt_emission.groupby([(df_clt_emission['timestep'] // 10) + 1, 'Emission'])['BL100'].sum().reset_index()\n",
    "\n",
    "# Rename columns in the result DataFrame\n",
    "result.columns = ['timestep_10', 'Emission', 'BL100_sum']\n",
    "\n",
    "# Filter the result DataFrame for CO2 and CH4 separately\n",
    "result_co2 = result.query(\"Emission == 'CO2'\")\n",
    "result_ch4 = result.query(\"Emission == 'CH4'\")\n",
    "\n",
    "CLT_co2_emission = result_co2\n",
    "CLT_ch4_emission = result_ch4\n",
    "\n",
    "CLT_co2_emission.drop('Emission', axis=1, inplace=True)\n",
    "CLT_ch4_emission.drop('Emission', axis=1, inplace=True)\n",
    "\n",
    "CLT_co2_emission.replace('')\n",
    "\n",
    "df_emission_clt_volume = {'timestep':[],'clt_volume':[]}\n",
    "\n",
    "df_emission_clt_volume['timestep'] = df_emission_calculation['period']\n",
    "df_emission_clt_volume['clt_volume'] = df_emission_calculation['plumber'] / clt_conversion_rate * clt_percentage\n",
    "\n",
    "\n",
    "df_emission_clt_volume = pd.DataFrame(df_emission_clt_volume)\n",
    "\n",
    "total_co2_emission = []\n",
    "total_ch4_emission = []\n",
    "\n",
    "# Iterate through the periods (1 to 20)\n",
    "for period in range(1, 21):\n",
    "    total_co2_emission_period = 0\n",
    "    total_ch4_emission_period = 0\n",
    "\n",
    "    for timestep in range(1, period + 1):\n",
    "        # Calculate the corresponding lumber volume and emission values\n",
    "        lumber_volume = df_emission_clt_volume.loc[df_emission_clt_volume['timestep'] == timestep, 'clt_volume'].iloc[0] \n",
    "        co2_emission = CLT_co2_emission.loc[CLT_co2_emission['timestep_10'] == (period - timestep + 1), 'BL100_sum'].iloc[0]\n",
    "        ch4_emission = CLT_ch4_emission.loc[CLT_ch4_emission['timestep_10'] == (period - timestep + 1), 'BL100_sum'].iloc[0]\n",
    "\n",
    "        # Calculate the emission for the current timestep and add it to the total_emission\n",
    "        total_co2_emission_period += lumber_volume * co2_emission\n",
    "        total_ch4_emission_period += lumber_volume * ch4_emission\n",
    "\n",
    "    # Append the total_emission for the current period to the total_emissions list\n",
    "    total_co2_emission.append(total_co2_emission_period)\n",
    "    total_ch4_emission.append(total_ch4_emission_period)\n",
    "\n",
    "# Create a DataFrame with the total emissions for each period\n",
    "df_emission_clt_decay = pd.DataFrame({'period': list(range(1, 21)), 'co2_clt_decay': total_co2_emission, 'ch4_clt_decay': total_ch4_emission})\n",
    "\n",
    "# constructural lumber emission calculation\n",
    "half_life_constructural_lumber = 35\n",
    "\n",
    "decay_constant_lumber = decay_constant(half_life_constructural_lumber)\n",
    "\n",
    "df_emission_lumber_volume = pd.DataFrame({'timestep': df_emission_calculation['period'], 'lumber_volume': df_emission_calculation['plumber'] * lumber_percentage})\n",
    "\n",
    "\n",
    "# df_emission_lumber_volume = pd.DataFrame({'timestep': df_emission_calculation['period'], 'lumber_volume': df_emission_calculation['plumber'] })\n",
    "total_co2_emission = []\n",
    "\n",
    "for period in range(1, 21):\n",
    "    total_co2_emission_period = 0\n",
    "\n",
    "    for step in range(max(1, period - 5 + 1), period + 1):  # Calculate only for the previous 5 periods and the current one\n",
    "        C0_volume = df_emission_lumber_volume.loc[df_emission_lumber_volume['timestep'] == step, 'lumber_volume'].iloc[0]\n",
    "        C0 = C0_volume * wood_density * carbon_content * co2_weight_conversion # Convert volume to carbon content\n",
    "        C_emission = first_order_decay_emission_periodic(C0, decay_constant(half_life_landfill_constructural_lumber), (period - step +1 ) * 10, (period - step) * 10)  # Remaining at the end of the period\n",
    "        co2_emission = C_emission  # Decay during the period\n",
    "        total_co2_emission_period += co2_emission  # Changed 'emission' to 'co2_emission'\n",
    "        \n",
    "    total_co2_emission.append(total_co2_emission_period)\n",
    "\n",
    "df_emission_lumber_decay = pd.DataFrame({'period': list(range(1, 21)), 'co2_lumber_decay': total_co2_emission})\n",
    "df_emission_clt_decay\n",
    "# df_emission_lumber_decay"
   ]
  },
  {
   "cell_type": "markdown",
   "id": "4c2da8fb-856b-434d-a056-880e69994e0a",
   "metadata": {},
   "source": [
    "## Landfill decay"
   ]
  },
  {
   "cell_type": "code",
   "execution_count": null,
   "id": "d4e915f3-fa57-4ff5-b513-2f077b96c241",
   "metadata": {
    "tags": []
   },
   "outputs": [],
   "source": [
    "# landfill decay calculated\n",
    "\n",
    "\n",
    "\n",
    "df_landfill_entry_carboncontent = {'period':[],'landfill_entry_period':[],'lumber_carbon_content':[]}\n",
    "df_landfill_entry_carboncontent = pd.DataFrame(df_landfill_entry_carboncontent)\n",
    "\n",
    "df_landfill_entry_carboncontent['period'] = range(1,21)\n",
    "df_landfill_entry_carboncontent['landfill_entry_period'] = range(6,26)\n",
    "df_landfill_entry_carboncontent['lumber_carbon_content'] = df_emission_lumber_volume['lumber_volume'] * wood_density * carbon_content\n",
    "\n",
    "df_landfill_entry_carboncontent['lumber_carbon_content'] = first_order_decay_left_carbon_content(df_landfill_entry_carboncontent['lumber_carbon_content'],decay_constant_lumber,60)\n",
    "# print(decay_constant_lumber)\n",
    "df_landfill_entry_carboncontent\n",
    "\n",
    "df_emission_landfill_lumber = {}\n",
    "\n",
    "total_co2_emission_landfill_lumber = []  # Define an empty list outside the loop\n",
    "total_ch4_emission_landfill_lumber = []\n",
    "\n",
    "\n",
    "for period in range(1, 21):\n",
    "    total_co2_emission_period_landfill_lumber = 0\n",
    "    total_ch4_emission_period_landfill_lumber = 0\n",
    "\n",
    "    for step in range(1, period + 1):\n",
    "        entry_carbon_content = df_landfill_entry_carboncontent.loc[df_landfill_entry_carboncontent['period'] == period, 'lumber_carbon_content'].iloc[0]\n",
    "        C_emission = first_order_decay_emission_periodic(entry_carbon_content, half_life_landfill_constructural_lumber, (period - step +1 ) * 10, (period - step) * 10)  # Remaining at the end of the period\n",
    "        co2_emission_landfill_lumber = C_emission * co2_weight_conversion # Decay during the period \n",
    "        ch4_emission_landfill_lumber = (C_emission * landfill_mcf * landfill_f * 16 / 12) * (1 - landfill_r) * (1 - landfill_ox)\n",
    "        total_ch4_emission_period_landfill_lumber += ch4_emission_landfill_lumber\n",
    "        total_co2_emission_period_landfill_lumber += co2_emission_landfill_lumber\n",
    "\n",
    "    total_co2_emission_landfill_lumber.append(total_co2_emission_period_landfill_lumber)\n",
    "    total_ch4_emission_landfill_lumber.append(total_ch4_emission_period_landfill_lumber)\n",
    "\n",
    "df_emission_landfill_lumber = pd.DataFrame({'period': list(range(6, 26)),\n",
    "                                            'co2_lumber_landfill_decay': total_co2_emission_landfill_lumber,\n",
    "                                            'ch4_lumber_landfill_decay': total_ch4_emission_landfill_lumber})\n",
    "\n",
    "df_emission_landfill_lumber\n",
    "\n",
    "# merge_df = pd.merge(df_emission_lumber_decay, df_emission_landfill_lumber, on='period')\n",
    "\n",
    "# create a dataframe with 'period' values 1-5\n",
    "df_to_append = pd.DataFrame({'period': range(1, 6)})\n",
    "\n",
    "# append this dataframe to df_emission_landfill_lumber\n",
    "df_emission_landfill_lumber = df_emission_landfill_lumber.append(df_to_append)\n",
    "\n",
    "# reset the index, if necessary\n",
    "df_emission_landfill_lumber = df_emission_landfill_lumber.reset_index(drop=True)\n",
    "\n",
    "# now perform the merge\n",
    "merge_df = pd.merge(df_emission_lumber_decay, df_emission_landfill_lumber, on='period', how='outer')\n",
    "\n",
    "merge_df = merge_df.drop(index=range(20, 25))\n",
    "\n",
    "merge_df = merge_df.fillna(0)\n",
    "\n",
    "# create the new 'co2_constructional_lumber' column\n",
    "merge_df['co2_constructional_lumber_decay'] = merge_df['co2_lumber_decay'] + merge_df['co2_lumber_landfill_decay']\n",
    "\n",
    "# rename the 'ch4_lumber_landfill_decay' column\n",
    "merge_df.rename(columns={'ch4_lumber_landfill_decay': 'ch4_constructional_lumber_decay'}, inplace=True)\n",
    "\n",
    "df_emission_constructional_lumber_decay = merge_df[['period', 'co2_constructional_lumber_decay', 'ch4_constructional_lumber_decay']].copy()\n",
    "\n",
    "df_emission_constructional_lumber_decay"
   ]
  },
  {
   "cell_type": "markdown",
   "id": "d26a63e9-4afe-4ba9-a263-4844db15fc83",
   "metadata": {
    "tags": []
   },
   "source": [
    "# newspaper decay emission"
   ]
  },
  {
   "cell_type": "code",
   "execution_count": null,
   "id": "d5145b9f-cfcd-4357-843a-e09814978f1a",
   "metadata": {
    "tags": []
   },
   "outputs": [],
   "source": [
    "df_emission_newspaper_volume = pd.DataFrame({'timestep': df_emission_calculation['period'], \n",
    "                                             'newspaper_weight': df_emission_calculation['pchips'] * 1000})\n",
    "\n",
    "total_co2_newspaper_decay = []\n",
    "\n",
    "for period in range(1, 21):\n",
    "    total_co2_emission_period = 0\n",
    "\n",
    "    for step in range(max(1, period - 1 + 1), period + 1):  \n",
    "        C0_volume = df_emission_newspaper_volume.loc[df_emission_newspaper_volume['timestep'] == step, 'newspaper_weight'].iloc[0]\n",
    "        C0 = C0_volume * carbon_content  \n",
    "        C_emission = first_order_decay_emission_periodic(C0, decay_constant(half_life_paper), (period - step + 1) * 10, (period - step) * 10)\n",
    "        co2_emission = C_emission * co2_weight_conversion\n",
    "        total_co2_emission_period += co2_emission  \n",
    "\n",
    "    total_co2_newspaper_decay.append(total_co2_emission_period)\n",
    "\n",
    "df_emission_newspaper_lifetime = pd.DataFrame({'period': list(range(1, 21)), 'co2_newspaper_decay': total_co2_newspaper_decay})\n",
    "\n",
    "\n",
    "\n",
    "\n",
    "# landfill emission start from here\n",
    "\n",
    "\n",
    "decay_constant_newspaper = decay_constant(half_life_paper)\n",
    "\n",
    "df_landfill_entry_carboncontent = {'period':[],'landfill_entry_period':[],'newspaper_carbon_content':[]}\n",
    "df_landfill_entry_carboncontent = pd.DataFrame(df_landfill_entry_carboncontent)\n",
    "\n",
    "df_landfill_entry_carboncontent['period'] = range(1,21)\n",
    "df_landfill_entry_carboncontent['landfill_entry_period'] = range(2,22)\n",
    "df_landfill_entry_carboncontent['newspaper_carbon_content'] = df_emission_newspaper_volume['newspaper_weight'] * carbon_content\n",
    "\n",
    "df_landfill_entry_carboncontent['newspaper_carbon_content'] = first_order_decay_left_carbon_content(df_landfill_entry_carboncontent['newspaper_carbon_content'],decay_constant_newspaper,10)\n",
    "\n",
    "df_emission_landfill_newspaper = {}\n",
    "\n",
    "total_co2_emission_landfill_newspaper = []  # Define an empty list outside the loop\n",
    "total_ch4_emission_landfill_newspaper = []\n",
    "\n",
    "for period in range(1, 21):\n",
    "    total_co2_emission_period_landfill_newspaper = 0\n",
    "    total_ch4_emission_period_landfill_newspaper = 0\n",
    "\n",
    "    for step in range(1, period + 1):\n",
    "        entry_carbon_content = df_landfill_entry_carboncontent.loc[df_landfill_entry_carboncontent['period'] == period, 'newspaper_carbon_content'].iloc[0]\n",
    "        C_emission = first_order_decay_emission_periodic(entry_carbon_content, half_life_landfill_newspaper, (period - step +1 ) * 10, (period - step) * 10)  # Remaining at the end of the period\n",
    "        co2_emission_landfill_newspaper = C_emission *co2_weight_conversion # Decay during the period\n",
    "        ch4_emission_landfill_newspaper = (C_emission * landfill_mcf * landfill_f * 16 / 12) * (1 - landfill_r) * (1 - landfill_ox)\n",
    "        total_ch4_emission_period_landfill_newspaper += ch4_emission_landfill_newspaper\n",
    "        total_co2_emission_period_landfill_newspaper += co2_emission_landfill_newspaper\n",
    "\n",
    "    total_co2_emission_landfill_newspaper.append(total_co2_emission_period_landfill_newspaper)\n",
    "    total_ch4_emission_landfill_newspaper.append(total_ch4_emission_period_landfill_newspaper)\n",
    "\n",
    "df_emission_landfill_newspaper = pd.DataFrame({'period': list(range(2, 22)),\n",
    "                                            'co2_newspaper_landfill_decay': total_co2_emission_landfill_newspaper,\n",
    "                                            'ch4_newspaper_landfill_decay': total_ch4_emission_landfill_newspaper})\n",
    "\n",
    "df_emission_landfill_newspaper\n",
    "\n",
    "# merge to get a total emission combine the lifecyle and landfill cycle\n",
    "\n",
    "\n",
    "df_to_append = pd.DataFrame({'period': range(1, 2)})\n",
    "\n",
    "# append this dataframe to df_emission_landfill_lumber\n",
    "df_emission_landfill_newspaper = df_emission_landfill_newspaper.append(df_to_append)\n",
    "\n",
    "df_emission_landfill_newspaper = df_emission_landfill_newspaper.reset_index(drop=True)\n",
    "\n",
    "# now perform the merge\n",
    "merge_df = pd.merge(df_emission_newspaper_lifetime, df_emission_landfill_newspaper, on='period', how='outer')\n",
    "\n",
    "merge_df = merge_df.drop(index=range(20, 21))\n",
    "\n",
    "merge_df = merge_df.fillna(0)\n",
    "\n",
    "# create the new 'co2_constructional_lumber' column\n",
    "merge_df['co2_newspaper_decay'] = merge_df['co2_newspaper_decay'] + merge_df['co2_newspaper_landfill_decay']\n",
    "\n",
    "# rename the 'ch4_lumber_landfill_decay' column\n",
    "merge_df.rename(columns={'ch4_newspaper_landfill_decay': 'ch4_newspaper_decay'}, inplace=True)\n",
    "\n",
    "df_emission_newspaper_decay = merge_df[['period', 'co2_newspaper_decay', 'ch4_newspaper_decay']].copy()\n",
    "\n",
    "df_emission_newspaper_decay\n",
    "# merge_df\n",
    "# df_landfill_entry_carboncontent"
   ]
  },
  {
   "cell_type": "markdown",
   "id": "4a4f0c49-81d6-4a24-8f67-2196dddf6f5d",
   "metadata": {
    "tags": []
   },
   "source": [
    "# Pellet burning emission"
   ]
  },
  {
   "cell_type": "code",
   "execution_count": null,
   "id": "ed7b479c-5933-42ea-9b6b-d4f706e625dd",
   "metadata": {
    "tags": []
   },
   "outputs": [],
   "source": [
    "df_emission_pellet_burn = {'period': [], 'co2_pellet_burn': []}\n",
    "\n",
    "# Iterate through the rows of the DataFrame\n",
    "for index, row in df_emission_calculation.iterrows():\n",
    "    period_value = row['period']\n",
    "    pellet_weight = row['psawdust'] + row['pshaving']\n",
    "    \n",
    "    co2_pellet_burn = pellet_weight * 1000 * 0.5 * 44 / 12\n",
    "    \n",
    "    df_emission_pellet_burn['period'].append(period_value)\n",
    "    df_emission_pellet_burn['co2_pellet_burn'].append(co2_pellet_burn)\n",
    "\n",
    "# Create a DataFrame from the dictionary\n",
    "df_emission_pellet_burn = pd.DataFrame(df_emission_pellet_burn)\n",
    "\n",
    "df_emission_pellet_burn\n"
   ]
  },
  {
   "cell_type": "markdown",
   "id": "23d5c5df-f51e-41af-add5-a70159ded6ee",
   "metadata": {
    "tags": []
   },
   "source": [
    "# Substitution emission calculation"
   ]
  },
  {
   "cell_type": "markdown",
   "id": "1e2bfe5e-f1e2-4a3f-8b21-1302ed84bfa6",
   "metadata": {
    "tags": []
   },
   "source": [
    "## Concrete was substituted by CLT with same volume e.g. 1 m3 replace 1 m3"
   ]
  },
  {
   "cell_type": "code",
   "execution_count": null,
   "id": "42729fd7-db46-40da-9c10-e284a021a0cc",
   "metadata": {
    "tags": []
   },
   "outputs": [],
   "source": [
    "df_emission_concrete_manu = {'period': [], 'co2_concrete_manu': [], 'ch4_concrete_manu': [], 'n2o_concrete_manu': []}\n",
    "\n",
    "# Iterate through the rows of the DataFrame\n",
    "for index, row in df_emission_calculation.iterrows():\n",
    "    period_value = row['period']\n",
    "    concrete_volume = row['plumber'] / clt_conversion_rate * clt_percentage\n",
    "    \n",
    "    co2_concrete_manu = concrete_volume * co2_concrete_manu_factor\n",
    "    ch4_concrete_manu = concrete_volume * ch4_concrete_manu_factor\n",
    "    n2o_concrete_manu = concrete_volume * n2o_concrete_manu_factor\n",
    "    \n",
    "    df_emission_concrete_manu['period'].append(period_value)\n",
    "    df_emission_concrete_manu['co2_concrete_manu'].append(co2_concrete_manu)\n",
    "    df_emission_concrete_manu['ch4_concrete_manu'].append(ch4_concrete_manu)\n",
    "    df_emission_concrete_manu['n2o_concrete_manu'].append(n2o_concrete_manu)\n",
    "\n",
    "# Create a DataFrame from the dictionary\n",
    "df_emission_concrete_manu = pd.DataFrame(df_emission_concrete_manu)\n",
    "\n",
    "df_emission_concrete_manu\n"
   ]
  },
  {
   "cell_type": "code",
   "execution_count": null,
   "id": "9346da5b-32ed-4e6f-ba1a-390718cbdacc",
   "metadata": {
    "tags": []
   },
   "outputs": [],
   "source": [
    "df_emission_concrete_landfill = {'period': [], 'co2_concrete_landfill': [], 'ch4_concrete_landfill': [], 'n2o_concrete_landfill': []}\n",
    "\n",
    "# Iterate through the rows of the DataFrame\n",
    "for index, row in df_emission_calculation.iterrows():\n",
    "    period_value = row['period']\n",
    "    concrete_volume = row['plumber'] / clt_conversion_rate * clt_percentage\n",
    "    \n",
    "    co2_concrete_landfill = concrete_volume * co2_concrete_landfill_factor\n",
    "    ch4_concrete_landfill = concrete_volume * ch4_concrete_landfill_factor\n",
    "    n2o_concrete_landfill = concrete_volume * n2o_concrete_landfill_factor\n",
    "    \n",
    "    df_emission_concrete_landfill['period'].append(period_value)\n",
    "    df_emission_concrete_landfill['co2_concrete_landfill'].append(co2_concrete_landfill)\n",
    "    df_emission_concrete_landfill['ch4_concrete_landfill'].append(ch4_concrete_landfill)\n",
    "    df_emission_concrete_landfill['n2o_concrete_landfill'].append(n2o_concrete_landfill)\n",
    "\n",
    "# Create a DataFrame from the dictionary\n",
    "df_emission_concrete_landfill = pd.DataFrame(df_emission_concrete_landfill)\n"
   ]
  },
  {
   "cell_type": "markdown",
   "id": "683c8704-3c08-4ed3-a0b0-04587158d57c",
   "metadata": {
    "tags": []
   },
   "source": [
    "## Electriticy generated by coal was substituted by pellet "
   ]
  },
  {
   "cell_type": "code",
   "execution_count": null,
   "id": "e10be537-ecd6-46e4-9c45-54b190b57b46",
   "metadata": {
    "tags": []
   },
   "outputs": [],
   "source": [
    "# coal use phase"
   ]
  },
  {
   "cell_type": "code",
   "execution_count": null,
   "id": "820c748b-aedd-48f5-bad3-db41c0ca4f35",
   "metadata": {
    "tags": []
   },
   "outputs": [],
   "source": [
    "df_emission_electricity_manu = {'period': [], 'co2_electricity_manu': [], 'ch4_electricity_manu': [], 'n2o_electricity_manu': []}\n",
    "\n",
    "# Iterate through the rows of the DataFrame\n",
    "for index, row in df_emission_calculation.iterrows():\n",
    "    period_value = row['period']\n",
    "    electricity = (row['psawdust'] + row['pshaving']) / pellet_conversion_rate * pellet_heat_value * mj_to_kwh * CHP_conversion_efficiency\n",
    "    \n",
    "    co2_electricity_manu = electricity * co2_electricity_manu_factor\n",
    "    ch4_electricity_manu = electricity * ch4_electricity_manu_factor\n",
    "    n2o_electricity_manu = electricity * n2o_electricity_manu_factor\n",
    "    \n",
    "    df_emission_electricity_manu['period'].append(period_value)\n",
    "    df_emission_electricity_manu['co2_electricity_manu'].append(co2_electricity_manu)\n",
    "    df_emission_electricity_manu['ch4_electricity_manu'].append(ch4_electricity_manu)\n",
    "    df_emission_electricity_manu['n2o_electricity_manu'].append(n2o_electricity_manu)\n",
    "\n",
    "# Create a DataFrame from the dictionary\n",
    "df_emission_electricity_manu = pd.DataFrame(df_emission_electricity_manu)\n",
    "\n",
    "df_emission_electricity_manu\n"
   ]
  },
  {
   "cell_type": "markdown",
   "id": "50bd9042-e215-471a-9f86-9c763caf46bc",
   "metadata": {
    "tags": []
   },
   "source": [
    "# Periodic Emission Summary"
   ]
  },
  {
   "cell_type": "code",
   "execution_count": null,
   "id": "d790305c-54e0-4287-92cc-50c2319bf563",
   "metadata": {
    "tags": []
   },
   "outputs": [],
   "source": [
    "dataframes = [\n",
    "    df_emission_clt_decay,\n",
    "    df_emission_clt_manu,\n",
    "    df_emission_lum_manu,\n",
    "    df_emission_concrete_manu,\n",
    "    df_emission_concrete_landfill,\n",
    "    df_emission_constructional_lumber_decay,\n",
    "    df_emission_electricity_manu,\n",
    "    df_emission_fertilization,\n",
    "    df_emission_harvesting,\n",
    "    df_emission_newspaper_decay,\n",
    "    df_emission_paper_manu,\n",
    "    df_emission_pellet_burn,\n",
    "    df_emission_pellet_manu,\n",
    "    df_emission_pellet_trans,\n",
    "]\n",
    "\n",
    "from functools import reduce\n",
    "\n",
    "# use reduce to merge all dataframes\n",
    "df_emission_periodic = reduce(lambda left,right: pd.merge(left,right,on='period'), dataframes)\n",
    "\n",
    "df_emission_periodic = pd.merge(df_emission_periodic, df_emission_calculation[['period', 'co2_seq', 'co2_dom_emission','co2_ecosystem_emission']], on='period')\n",
    "\n",
    "\n",
    "df_emission_periodic"
   ]
  },
  {
   "cell_type": "code",
   "execution_count": null,
   "id": "bbc6eb27-0262-4497-8f77-272a509eaadd",
   "metadata": {
    "tags": []
   },
   "outputs": [],
   "source": [
    "# Initialize an empty dictionary for each category\n",
    "co2_columns = {'period': df_emission_periodic['period']}\n",
    "ch4_columns = {'period': df_emission_periodic['period']}\n",
    "n2o_columns = {'period': df_emission_periodic['period']}\n",
    "\n",
    "# Loop through all column names in the DataFrame\n",
    "for col in df_emission_periodic.columns:\n",
    "    # If the column name starts with 'co2', add it to the co2_columns dictionary\n",
    "    if col.startswith('co2'):\n",
    "        co2_columns[col] = df_emission_periodic[col]\n",
    "    # If the column name starts with 'ch4', add it to the ch4_columns dictionary\n",
    "    elif col.startswith('ch4'):\n",
    "        ch4_columns[col] = df_emission_periodic[col]\n",
    "    # If the column name starts with 'n2o', add it to the n2o_columns dictionary\n",
    "    elif col.startswith('n2o'):\n",
    "        n2o_columns[col] = df_emission_periodic[col]\n",
    "\n",
    "# Convert the dictionaries to DataFrames\n",
    "df_co2_periodic = pd.DataFrame(co2_columns)\n",
    "df_ch4_periodic = pd.DataFrame(ch4_columns)\n",
    "df_n2o_periodic = pd.DataFrame(n2o_columns)\n",
    "\n",
    "df_co2_periodic"
   ]
  },
  {
   "cell_type": "code",
   "execution_count": null,
   "id": "f166c279-84cb-4f1b-b24c-82b1e2aa2dfc",
   "metadata": {
    "tags": []
   },
   "outputs": [],
   "source": [
    "df_co2_periodic['co2_periodic'] = (\n",
    "    df_co2_periodic['co2_clt_decay'] + \n",
    "    df_co2_periodic['co2_clt_manu'] + \n",
    "    df_co2_periodic['co2_lum_manu'] +\n",
    "    df_co2_periodic['co2_constructional_lumber_decay'] + \n",
    "    df_co2_periodic['co2_fert'] +\n",
    "    df_co2_periodic['co2_harvester'] + \n",
    "    df_co2_periodic['co2_skidder'] + \n",
    "    df_co2_periodic['co2_newspaper_decay'] + \n",
    "    df_co2_periodic['co2_paper_manu'] + \n",
    "    df_co2_periodic['co2_pellet_burn'] + \n",
    "    df_co2_periodic['co2_pellet_manu'] + \n",
    "    df_co2_periodic['co2_pellet_trans'] + \n",
    "    df_co2_periodic['co2_dom_emission'] +\n",
    "    df_co2_periodic['co2_ecosystem_emission']\n",
    ") - (\n",
    "    df_co2_periodic['co2_concrete_manu'] +\n",
    "    df_co2_periodic['co2_concrete_landfill']+\n",
    "    df_co2_periodic['co2_electricity_manu'] + \n",
    "    df_co2_periodic['co2_seq']\n",
    ")\n",
    "\n",
    "cols = list(df_co2_periodic.columns)\n",
    "\n",
    "# Move the column to second position\n",
    "cols.insert(1, cols.pop(cols.index('co2_periodic')))\n",
    "\n",
    "# Use this list to reorder the columns\n",
    "df_co2_periodic = df_co2_periodic[cols]\n",
    "df_co2_periodic['co2_accumulated'] = df_co2_periodic['co2_periodic'].cumsum()\n",
    "df_co2_periodic.to_csv(f'model_result/emission_result/{document_name_without_extension}_{float(clt_percentage)}_co2_emission.csv', index=False)\n",
    "print(f'model_result/emission_result/{document_name_without_extension}_{float(clt_percentage)}_co2_emission.csv')\n",
    "# print(df_co2_periodic['co2_periodic'])"
   ]
  },
  {
   "cell_type": "code",
   "execution_count": null,
   "id": "5afa4705-b561-4288-a533-a855bc732992",
   "metadata": {
    "tags": []
   },
   "outputs": [],
   "source": [
    "df_co2_periodic "
   ]
  },
  {
   "cell_type": "code",
   "execution_count": null,
   "id": "3ab78fb1-73aa-47ee-aaf9-ac44c9517684",
   "metadata": {
    "tags": []
   },
   "outputs": [],
   "source": [
    "df_ch4_periodic['ch4_periodic'] = (\n",
    "    df_ch4_periodic['ch4_clt_decay'] + \n",
    "    df_ch4_periodic['ch4_clt_manu'] +\n",
    "    df_ch4_periodic['ch4_lum_manu'] +\n",
    "    df_ch4_periodic['ch4_constructional_lumber_decay'] +\n",
    "    df_ch4_periodic['ch4_fert'] +\n",
    "    df_ch4_periodic['ch4_harvester'] +\n",
    "    df_ch4_periodic['ch4_skidder'] +\n",
    "    df_ch4_periodic['ch4_newspaper_decay'] +\n",
    "    df_ch4_periodic['ch4_paper_manu'] +\n",
    "    df_ch4_periodic['ch4_pellet_manu'] +\n",
    "    df_ch4_periodic['ch4_pellet_trans']\n",
    ") - (\n",
    "    df_ch4_periodic['ch4_concrete_manu'] +\n",
    "    df_ch4_periodic['ch4_concrete_landfill']+\n",
    "    df_ch4_periodic['ch4_electricity_manu']\n",
    ")\n",
    "\n",
    "\n",
    "cols = list(df_ch4_periodic.columns)\n",
    "\n",
    "# Move the column to second position\n",
    "cols.insert(1, cols.pop(cols.index('ch4_periodic')))\n",
    "\n",
    "# Use this list to reorder the columns\n",
    "df_ch4_periodic = df_ch4_periodic[cols]\n",
    "\n",
    "df_ch4_periodic.to_csv(f'model_result/emission_result/{document_name_without_extension}_{float(clt_percentage)}_ch4_emission.csv', index=False)"
   ]
  },
  {
   "cell_type": "code",
   "execution_count": null,
   "id": "a729d4ba-2c89-4c1e-820b-37be14fa59d1",
   "metadata": {
    "tags": []
   },
   "outputs": [],
   "source": [
    "df_n2o_periodic['n2o_periodic'] = (\n",
    "    df_n2o_periodic['n2o_clt_manu'] +\n",
    "    df_n2o_periodic['n2o_lum_manu'] +\n",
    "    df_n2o_periodic['n2o_fert'] +\n",
    "    df_n2o_periodic['n2o_harvester'] +\n",
    "    df_n2o_periodic['n2o_skidder'] +\n",
    "    df_n2o_periodic['n2o_paper_manu'] +\n",
    "    df_n2o_periodic['n2o_pellet_manu'] +\n",
    "    df_n2o_periodic['n2o_pellet_trans']\n",
    ") - (\n",
    "    df_n2o_periodic['n2o_concrete_manu'] +\n",
    "    df_n2o_periodic['n2o_concrete_landfill']+\n",
    "    df_n2o_periodic['n2o_electricity_manu']\n",
    ")\n",
    "\n",
    "# Get a list of columns\n",
    "cols = list(df_n2o_periodic.columns)\n",
    "\n",
    "# Move the column to second position\n",
    "cols.insert(1, cols.pop(cols.index('n2o_periodic')))\n",
    "\n",
    "# Use this list to reorder the columns\n",
    "df_n2o_periodic = df_n2o_periodic[cols]\n",
    "\n",
    "df_n2o_periodic.to_csv(f'model_result/emission_result/{document_name_without_extension}_{float(clt_percentage)}_n2o_emission.csv', index=False)"
   ]
  },
  {
   "cell_type": "code",
   "execution_count": null,
   "id": "55cfdccb-0bfe-46ab-bc70-34932c8f1eb0",
   "metadata": {},
   "outputs": [],
   "source": [
    "\n",
    "# First, you want to group by the 'period' column and sum the 'co2_periodic' column\n",
    "df_co2_periodic_sum = df_co2_periodic.groupby('period')['co2_periodic'].sum().reset_index()\n",
    "\n",
    "# Accumulated co2\n",
    "df_co2_periodic_sum['co2_accumulated'] = df_co2_periodic_sum['co2_periodic'].cumsum()\n",
    "\n",
    "# Adding a row at the beginning with 'co2_accumulated' equals to 0\n",
    "first_row = pd.DataFrame({'period': [df_co2_periodic_sum['period'].min() - 1], 'co2_accumulated': [0]})\n",
    "df_co2_periodic_sum = pd.concat([first_row, df_co2_periodic_sum]).reset_index(drop=True)\n",
    "\n",
    "# Now, you can plot the accumulated CO2 over each period\n",
    "plt.figure(figsize=(10, 6))\n",
    "plt.plot(df_co2_periodic_sum['period'], df_co2_periodic_sum['co2_accumulated'])\n",
    "plt.axhline(0, color='r', linestyle='--')  # adds a red dashed horizontal line at y=0\n",
    "plt.xlabel('Period = 10 years')\n",
    "plt.ylabel('kg CO2')\n",
    "plt.title('Accumulated Net CO2 Emission Over Periods')\n",
    "plt.show()\n",
    "\n",
    "df_co2_periodic_sum\n",
    "\n",
    "\n",
    "# forest ecosytem\n",
    "# forest product\n",
    "# wage"
   ]
  },
  {
   "cell_type": "code",
   "execution_count": null,
   "id": "2ed4d6f9-22ff-4f1c-8118-14fd7cacce99",
   "metadata": {},
   "outputs": [],
   "source": [
    "# Select the first 20 periods and the relevant columns for emissions and sequestration\n",
    "emission_columns = ['co2_clt_decay', 'co2_clt_manu', 'co2_lum_manu', 'co2_constructional_lumber_decay', 'co2_fert',\n",
    "                    'co2_harvester', 'co2_skidder', 'co2_newspaper_decay', 'co2_paper_manu', \n",
    "                    'co2_pellet_burn', 'co2_pellet_manu', 'co2_pellet_trans', 'co2_dom_emission',\n",
    "                    'co2_ecosystem_emission']\n",
    "\n",
    "sequestration_columns = ['co2_concrete_manu', 'co2_concrete_landfill', 'co2_electricity_manu', 'co2_seq']\n",
    "\n",
    "emissions_subset = df_co2_periodic .loc[:19, emission_columns]\n",
    "sequestration_subset = df_co2_periodic .loc[:19, sequestration_columns]\n",
    "\n",
    "# Calculate the cumulative sum for each column\n",
    "emissions_cumsum = emissions_subset.cumsum()\n",
    "sequestration_cumsum = sequestration_subset.cumsum()\n",
    "\n",
    "# Create the Stacked Area Chart\n",
    "plt.figure(figsize=(15, 10))\n",
    "\n",
    "# First stack the emissions, then the sequestration (with negative values)\n",
    "plt.stackplot(df_co2_periodic ['period'][:20], emissions_cumsum.transpose(), labels=emissions_cumsum.columns, alpha=0.7)\n",
    "plt.stackplot(df_co2_periodic ['period'][:20], -sequestration_cumsum.transpose(), labels=sequestration_cumsum.columns, alpha=0.7)\n",
    "\n",
    "plt.legend(loc='upper left')\n",
    "plt.title('CO2 Emissions and Sequestration Over 20 Periods')\n",
    "plt.xlabel('Period = 10 years')\n",
    "plt.ylabel('Cumulative CO2 Emission/Sequestration')\n",
    "plt.show()\n"
   ]
  },
  {
   "cell_type": "code",
   "execution_count": null,
   "id": "06dfa774-a686-41c1-9922-d689d5789500",
   "metadata": {
    "tags": []
   },
   "outputs": [],
   "source": [
    "# # Create the Stacked Area Chart with specified colors for 'co2_seq', 'co2_ecosystem_emission', and 'co2_dom_emission'\n",
    "# plt.figure(figsize=(15, 10))\n",
    "\n",
    "# # Define the colors for 'co2_seq', 'co2_ecosystem_emission', and 'co2_dom_emission'\n",
    "# colors = ['grey' if column not in ['co2_seq', 'co2_ecosystem_emission', 'co2_dom_emission'] \n",
    "#           else ('blue' if column == 'co2_seq' \n",
    "#                 else ('green' if column == 'co2_ecosystem_emission' \n",
    "#                       else 'red')) for column in emissions_cumsum.columns]\n",
    "\n",
    "# # First stack the emissions, then the sequestration (with negative values)\n",
    "# plt.stackplot(df_co2_periodic['period'][:20], emissions_cumsum.transpose(), labels=emissions_cumsum.columns, colors=colors, alpha=0.7)\n",
    "\n",
    "# # For sequestration, we use the same color since it's all 'co2_seq'\n",
    "# plt.stackplot(df_co2_periodic['period'][:20], -sequestration_cumsum.transpose(), labels=sequestration_cumsum.columns, colors=['blue'], alpha=0.7)\n",
    "\n",
    "# plt.legend(loc='upper left')\n",
    "# plt.title('CO2 Emissions and Sequestration Over 20 Periods')\n",
    "# plt.xlabel('Period = 10 years')\n",
    "# plt.ylabel('Cumulative CO2 Emission/Sequestration')\n",
    "# plt.show()\n"
   ]
  },
  {
   "cell_type": "code",
   "execution_count": null,
   "id": "ef88172f-efab-4270-824a-8bf0a8e15d27",
   "metadata": {
    "tags": []
   },
   "outputs": [],
   "source": [
    "# # Create the Stacked Area Chart with specified colors for 'co2_seq', 'co2_ecosystem_emission', and 'co2_dom_emission'\n",
    "# plt.figure(figsize=(15, 10))\n",
    "\n",
    "# # Define the colors for 'co2_seq', 'co2_ecosystem_emission', and 'co2_dom_emission'\n",
    "# emission_colors = ['grey' if column not in ['co2_seq', 'co2_ecosystem_emission', 'co2_dom_emission'] \n",
    "#                    else ('blue' if column == 'co2_seq' \n",
    "#                          else ('green' if column == 'co2_ecosystem_emission' \n",
    "#                                else 'red')) for column in emissions_cumsum.columns]\n",
    "\n",
    "# # For sequestration, assign different colors\n",
    "# sequestration_colors = ['black' if column != 'co2_seq' else 'blue' for column in sequestration_cumsum.columns]\n",
    "\n",
    "# # First stack the emissions, then the sequestration (with negative values)\n",
    "# plt.stackplot(df_co2_periodic['period'][:20], emissions_cumsum.transpose(), labels=emissions_cumsum.columns, colors=emission_colors, alpha=0.7)\n",
    "# plt.stackplot(df_co2_periodic['period'][:20], -sequestration_cumsum.transpose(), labels=sequestration_cumsum.columns, colors=sequestration_colors, alpha=0.7)\n",
    "\n",
    "# plt.legend(loc='upper left')\n",
    "# plt.title('CO2 Emissions and Sequestration Over 20 Periods')\n",
    "# plt.xlabel('Period')\n",
    "# plt.ylabel('Cumulative CO2 Emission/Sequestration')\n",
    "# plt.show()\n"
   ]
  },
  {
   "cell_type": "code",
   "execution_count": null,
   "id": "b319f4ae-83d2-4009-ad11-ae269981ae4a",
   "metadata": {
    "tags": []
   },
   "outputs": [],
   "source": [
    "# Create the Twin Axes plot with a line plot for the cumulative CO2 periodic emissions and legends\n",
    "fig, ax1 = plt.subplots(figsize=(15, 7))\n",
    "\n",
    "color = 'tab:green'\n",
    "ax1.set_xlabel('Period (each period represents 10 years)')\n",
    "ax1.set_ylabel('Cumulative CO2 Emission/Sequestration', color=color)\n",
    "emissions_stack = ax1.stackplot(df_co2_periodic['period'][:20], emissions_cumsum.transpose(), labels=emissions_cumsum.columns, alpha=0.7, colors=plt.cm.tab20c.colors)\n",
    "sequestration_stack = ax1.stackplot(df_co2_periodic['period'][:20], -sequestration_cumsum.transpose(), labels=sequestration_cumsum.columns, alpha=0.7, colors=plt.cm.Set3.colors)\n",
    "ax1.tick_params(axis='y', labelcolor=color)\n",
    "\n",
    "ax2 = ax1.twinx()\n",
    "\n",
    "color = 'tab:green'\n",
    "ax2.set_ylabel('Cumulative CO2 Periodic Emission', color=color)\n",
    "periodic_line, = ax2.plot(df_co2_periodic['period'][:20], df_co2_periodic['co2_accumulated'], label='co2_periodic', color=color)\n",
    "ax2.tick_params(axis='y', labelcolor=color)\n",
    "\n",
    "# Create a legend for all lines and stackplots\n",
    "lines = [periodic_line]\n",
    "labels = [l.get_label() for l in lines]\n",
    "\n",
    "for stack in emissions_stack + sequestration_stack:\n",
    "    lines.append(stack)\n",
    "    labels.append(stack.get_label())\n",
    "\n",
    "ax1.legend(lines, labels, loc='upper left')\n",
    "\n",
    "fig.tight_layout()\n",
    "plt.title('Twin Axes: CO2 Emissions, Sequestration, and Line Plot for Periodic Emissions Over 20 Periods')\n",
    "plt.show()\n"
   ]
  },
  {
   "cell_type": "code",
   "execution_count": null,
   "id": "04504d25-edb8-454d-9831-302536f82a92",
   "metadata": {},
   "outputs": [],
   "source": []
  },
  {
   "cell_type": "code",
   "execution_count": null,
   "id": "1a7af9ea-68d7-4ed5-9914-58fe1d6e2fe6",
   "metadata": {},
   "outputs": [],
   "source": []
  }
 ],
 "metadata": {
  "kernelspec": {
   "display_name": "Python 3 (ipykernel)",
   "language": "python",
   "name": "python3"
  },
  "language_info": {
   "codemirror_mode": {
    "name": "ipython",
    "version": 3
   },
   "file_extension": ".py",
   "mimetype": "text/x-python",
   "name": "python",
   "nbconvert_exporter": "python",
   "pygments_lexer": "ipython3",
   "version": "3.10.12"
  }
 },
 "nbformat": 4,
 "nbformat_minor": 5
}
